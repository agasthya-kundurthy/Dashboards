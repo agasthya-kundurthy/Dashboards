{
 "cells": [
  {
   "cell_type": "markdown",
   "metadata": {},
   "source": [
    "Import the required frameworks"
   ]
  },
  {
   "cell_type": "code",
   "execution_count": 19,
   "metadata": {
    "collapsed": true
   },
   "outputs": [],
   "source": [
    "import pandas\n",
    "import numpy as np"
   ]
  },
  {
   "cell_type": "markdown",
   "metadata": {},
   "source": [
    "Import the datasets containing the actual data."
   ]
  },
  {
   "cell_type": "code",
   "execution_count": 4,
   "metadata": {
    "collapsed": true
   },
   "outputs": [],
   "source": [
    "file1 = pandas.read_csv('Redesign-Dataset.csv')\n",
    "file2 = pandas.read_csv('Redesign_Deaths.csv')"
   ]
  },
  {
   "cell_type": "markdown",
   "metadata": {},
   "source": [
    "Display the exisitng data from the datasets - only 3 rows being displayed!"
   ]
  },
  {
   "cell_type": "code",
   "execution_count": 5,
   "metadata": {},
   "outputs": [
    {
     "data": {
      "text/html": [
       "<div>\n",
       "<style>\n",
       "    .dataframe thead tr:only-child th {\n",
       "        text-align: right;\n",
       "    }\n",
       "\n",
       "    .dataframe thead th {\n",
       "        text-align: left;\n",
       "    }\n",
       "\n",
       "    .dataframe tbody tr th {\n",
       "        vertical-align: top;\n",
       "    }\n",
       "</style>\n",
       "<table border=\"1\" class=\"dataframe\">\n",
       "  <thead>\n",
       "    <tr style=\"text-align: right;\">\n",
       "      <th></th>\n",
       "      <th>Cause</th>\n",
       "      <th>Value</th>\n",
       "      <th>Diameter</th>\n",
       "      <th>Radius</th>\n",
       "      <th>Area</th>\n",
       "    </tr>\n",
       "  </thead>\n",
       "  <tbody>\n",
       "    <tr>\n",
       "      <th>0</th>\n",
       "      <td>Breast Cancer</td>\n",
       "      <td>$257.85</td>\n",
       "      <td>2.00</td>\n",
       "      <td>1.00</td>\n",
       "      <td>3.1416</td>\n",
       "    </tr>\n",
       "    <tr>\n",
       "      <th>1</th>\n",
       "      <td>Prostrate Cancer</td>\n",
       "      <td>$147.00</td>\n",
       "      <td>1.51</td>\n",
       "      <td>0.76</td>\n",
       "      <td>1.7910</td>\n",
       "    </tr>\n",
       "    <tr>\n",
       "      <th>2</th>\n",
       "      <td>Heart Disease</td>\n",
       "      <td>$54.10</td>\n",
       "      <td>0.92</td>\n",
       "      <td>0.46</td>\n",
       "      <td>0.6591</td>\n",
       "    </tr>\n",
       "  </tbody>\n",
       "</table>\n",
       "</div>"
      ],
      "text/plain": [
       "              Cause     Value  Diameter  Radius    Area\n",
       "0     Breast Cancer  $257.85       2.00    1.00  3.1416\n",
       "1  Prostrate Cancer  $147.00       1.51    0.76  1.7910\n",
       "2     Heart Disease   $54.10       0.92    0.46  0.6591"
      ]
     },
     "execution_count": 5,
     "metadata": {},
     "output_type": "execute_result"
    }
   ],
   "source": [
    "file1.head(3)"
   ]
  },
  {
   "cell_type": "code",
   "execution_count": 6,
   "metadata": {},
   "outputs": [
    {
     "data": {
      "text/html": [
       "<div>\n",
       "<style>\n",
       "    .dataframe thead tr:only-child th {\n",
       "        text-align: right;\n",
       "    }\n",
       "\n",
       "    .dataframe thead th {\n",
       "        text-align: left;\n",
       "    }\n",
       "\n",
       "    .dataframe tbody tr th {\n",
       "        vertical-align: top;\n",
       "    }\n",
       "</style>\n",
       "<table border=\"1\" class=\"dataframe\">\n",
       "  <thead>\n",
       "    <tr style=\"text-align: right;\">\n",
       "      <th></th>\n",
       "      <th>Cause</th>\n",
       "      <th>Value</th>\n",
       "      <th>Diameter</th>\n",
       "      <th>Radius</th>\n",
       "      <th>Area</th>\n",
       "    </tr>\n",
       "  </thead>\n",
       "  <tbody>\n",
       "    <tr>\n",
       "      <th>0</th>\n",
       "      <td>Heart Disease</td>\n",
       "      <td>596,577</td>\n",
       "      <td>2.50</td>\n",
       "      <td>1.25</td>\n",
       "      <td>4.9087</td>\n",
       "    </tr>\n",
       "    <tr>\n",
       "      <th>1</th>\n",
       "      <td>Chronic Obstructive Pulmonary Disease</td>\n",
       "      <td>142,942</td>\n",
       "      <td>1.22</td>\n",
       "      <td>0.61</td>\n",
       "      <td>1.1762</td>\n",
       "    </tr>\n",
       "    <tr>\n",
       "      <th>2</th>\n",
       "      <td>Diabetes</td>\n",
       "      <td>73,831</td>\n",
       "      <td>0.88</td>\n",
       "      <td>0.44</td>\n",
       "      <td>0.6075</td>\n",
       "    </tr>\n",
       "  </tbody>\n",
       "</table>\n",
       "</div>"
      ],
      "text/plain": [
       "                                   Cause    Value  Diameter  Radius    Area\n",
       "0                          Heart Disease  596,577      2.50    1.25  4.9087\n",
       "1  Chronic Obstructive Pulmonary Disease  142,942      1.22    0.61  1.1762\n",
       "2                               Diabetes   73,831      0.88    0.44  0.6075"
      ]
     },
     "execution_count": 6,
     "metadata": {},
     "output_type": "execute_result"
    }
   ],
   "source": [
    "file2.head(3)"
   ]
  },
  {
   "cell_type": "markdown",
   "metadata": {},
   "source": [
    "Drop unwanted columns from the datasets"
   ]
  },
  {
   "cell_type": "code",
   "execution_count": 7,
   "metadata": {
    "collapsed": true
   },
   "outputs": [],
   "source": [
    "file1.drop(['Diameter','Radius','Area'], axis= 1, inplace= True)"
   ]
  },
  {
   "cell_type": "code",
   "execution_count": 8,
   "metadata": {
    "collapsed": true
   },
   "outputs": [],
   "source": [
    "file2.drop(['Diameter','Radius','Area'], axis= 1, inplace= True)"
   ]
  },
  {
   "cell_type": "markdown",
   "metadata": {},
   "source": [
    "After dropping the unwanted columns, the dataset looks like"
   ]
  },
  {
   "cell_type": "code",
   "execution_count": 9,
   "metadata": {},
   "outputs": [
    {
     "data": {
      "text/html": [
       "<div>\n",
       "<style>\n",
       "    .dataframe thead tr:only-child th {\n",
       "        text-align: right;\n",
       "    }\n",
       "\n",
       "    .dataframe thead th {\n",
       "        text-align: left;\n",
       "    }\n",
       "\n",
       "    .dataframe tbody tr th {\n",
       "        vertical-align: top;\n",
       "    }\n",
       "</style>\n",
       "<table border=\"1\" class=\"dataframe\">\n",
       "  <thead>\n",
       "    <tr style=\"text-align: right;\">\n",
       "      <th></th>\n",
       "      <th>Cause</th>\n",
       "      <th>Value</th>\n",
       "    </tr>\n",
       "  </thead>\n",
       "  <tbody>\n",
       "    <tr>\n",
       "      <th>0</th>\n",
       "      <td>Breast Cancer</td>\n",
       "      <td>$257.85</td>\n",
       "    </tr>\n",
       "    <tr>\n",
       "      <th>1</th>\n",
       "      <td>Prostrate Cancer</td>\n",
       "      <td>$147.00</td>\n",
       "    </tr>\n",
       "    <tr>\n",
       "      <th>2</th>\n",
       "      <td>Heart Disease</td>\n",
       "      <td>$54.10</td>\n",
       "    </tr>\n",
       "  </tbody>\n",
       "</table>\n",
       "</div>"
      ],
      "text/plain": [
       "              Cause     Value\n",
       "0     Breast Cancer  $257.85 \n",
       "1  Prostrate Cancer  $147.00 \n",
       "2     Heart Disease   $54.10 "
      ]
     },
     "execution_count": 9,
     "metadata": {},
     "output_type": "execute_result"
    }
   ],
   "source": [
    "file1.head(3)"
   ]
  },
  {
   "cell_type": "code",
   "execution_count": 17,
   "metadata": {},
   "outputs": [
    {
     "data": {
      "text/html": [
       "<div>\n",
       "<style>\n",
       "    .dataframe thead tr:only-child th {\n",
       "        text-align: right;\n",
       "    }\n",
       "\n",
       "    .dataframe thead th {\n",
       "        text-align: left;\n",
       "    }\n",
       "\n",
       "    .dataframe tbody tr th {\n",
       "        vertical-align: top;\n",
       "    }\n",
       "</style>\n",
       "<table border=\"1\" class=\"dataframe\">\n",
       "  <thead>\n",
       "    <tr style=\"text-align: right;\">\n",
       "      <th></th>\n",
       "      <th>Cause</th>\n",
       "      <th>Value</th>\n",
       "    </tr>\n",
       "  </thead>\n",
       "  <tbody>\n",
       "    <tr>\n",
       "      <th>0</th>\n",
       "      <td>Heart Disease</td>\n",
       "      <td>596,577</td>\n",
       "    </tr>\n",
       "    <tr>\n",
       "      <th>1</th>\n",
       "      <td>Chronic Obstructive Pulmonary Disease</td>\n",
       "      <td>142,942</td>\n",
       "    </tr>\n",
       "    <tr>\n",
       "      <th>2</th>\n",
       "      <td>Diabetes</td>\n",
       "      <td>73,831</td>\n",
       "    </tr>\n",
       "  </tbody>\n",
       "</table>\n",
       "</div>"
      ],
      "text/plain": [
       "                                   Cause    Value\n",
       "0                          Heart Disease  596,577\n",
       "1  Chronic Obstructive Pulmonary Disease  142,942\n",
       "2                               Diabetes   73,831"
      ]
     },
     "execution_count": 17,
     "metadata": {},
     "output_type": "execute_result"
    }
   ],
   "source": [
    "file2.head(3)"
   ]
  },
  {
   "cell_type": "markdown",
   "metadata": {},
   "source": [
    "Save the data into as CSV files"
   ]
  },
  {
   "cell_type": "code",
   "execution_count": 10,
   "metadata": {
    "collapsed": true
   },
   "outputs": [],
   "source": [
    "file1.to_csv('Redesign-DataSet-Cleaned.csv')\n",
    "file2.to_csv('Redesign-Deaths-cleaned.csv')\n"
   ]
  },
  {
   "cell_type": "markdown",
   "metadata": {},
   "source": [
    "This is the first Iteration "
   ]
  },
  {
   "cell_type": "markdown",
   "metadata": {
    "collapsed": true
   },
   "source": [
    "![alt text](Iteration-1.png \"Title\")"
   ]
  },
  {
   "cell_type": "markdown",
   "metadata": {},
   "source": [
    "In the first Iteration of my visualization, I had considered the data of the number of deaths due to the common causes and what were the donations from charity for the same. This has been represented as a Bar Chart, now it is easier to understand which diseases are getting more money from charity. But this still doesn’t clearly tell me why people donate more to these diseases. This graph is only useful in letting people understand a comparison on number of deaths caused by common causes and money donated from charity to these deaths. \n"
   ]
  },
  {
   "cell_type": "markdown",
   "metadata": {},
   "source": [
    "![alt text](Iteration-2.png \"Title\")"
   ]
  },
  {
   "cell_type": "markdown",
   "metadata": {},
   "source": [
    "In the second Iteration of my Visualization, I had added the data of treatment costs per annum for the common causes of death. This gives me an idea about how effective the donations might be. But this also doesn’t explain about why there is a difference in the donation amounts.\n"
   ]
  },
  {
   "cell_type": "code",
   "execution_count": 14,
   "metadata": {
    "collapsed": true
   },
   "outputs": [],
   "source": [
    "df = pandas.DataFrame(data=file2)"
   ]
  },
  {
   "cell_type": "code",
   "execution_count": 17,
   "metadata": {},
   "outputs": [
    {
     "data": {
      "text/html": [
       "<div>\n",
       "<style>\n",
       "    .dataframe thead tr:only-child th {\n",
       "        text-align: right;\n",
       "    }\n",
       "\n",
       "    .dataframe thead th {\n",
       "        text-align: left;\n",
       "    }\n",
       "\n",
       "    .dataframe tbody tr th {\n",
       "        vertical-align: top;\n",
       "    }\n",
       "</style>\n",
       "<table border=\"1\" class=\"dataframe\">\n",
       "  <thead>\n",
       "    <tr style=\"text-align: right;\">\n",
       "      <th></th>\n",
       "      <th>Cause</th>\n",
       "      <th>Value</th>\n",
       "    </tr>\n",
       "  </thead>\n",
       "  <tbody>\n",
       "    <tr>\n",
       "      <th>0</th>\n",
       "      <td>Heart Disease</td>\n",
       "      <td>596,577</td>\n",
       "    </tr>\n",
       "    <tr>\n",
       "      <th>1</th>\n",
       "      <td>Chronic Obstructive Pulmonary Disease</td>\n",
       "      <td>142,942</td>\n",
       "    </tr>\n",
       "    <tr>\n",
       "      <th>2</th>\n",
       "      <td>Diabetes</td>\n",
       "      <td>73,831</td>\n",
       "    </tr>\n",
       "    <tr>\n",
       "      <th>3</th>\n",
       "      <td>Breast Cancer</td>\n",
       "      <td>41,374</td>\n",
       "    </tr>\n",
       "    <tr>\n",
       "      <th>4</th>\n",
       "      <td>Suicide</td>\n",
       "      <td>39,518</td>\n",
       "    </tr>\n",
       "    <tr>\n",
       "      <th>5</th>\n",
       "      <td>Prostrate Cancer</td>\n",
       "      <td>21,176</td>\n",
       "    </tr>\n",
       "    <tr>\n",
       "      <th>6</th>\n",
       "      <td>HIV/AIDS</td>\n",
       "      <td>7,683</td>\n",
       "    </tr>\n",
       "    <tr>\n",
       "      <th>7</th>\n",
       "      <td>Motor Neuron Disease (ALS)</td>\n",
       "      <td>6,849</td>\n",
       "    </tr>\n",
       "    <tr>\n",
       "      <th>8</th>\n",
       "      <td>NaN</td>\n",
       "      <td>NaN</td>\n",
       "    </tr>\n",
       "  </tbody>\n",
       "</table>\n",
       "</div>"
      ],
      "text/plain": [
       "                                   Cause    Value\n",
       "0                          Heart Disease  596,577\n",
       "1  Chronic Obstructive Pulmonary Disease  142,942\n",
       "2                               Diabetes   73,831\n",
       "3                          Breast Cancer   41,374\n",
       "4                                Suicide   39,518\n",
       "5                       Prostrate Cancer   21,176\n",
       "6                               HIV/AIDS    7,683\n",
       "7             Motor Neuron Disease (ALS)    6,849\n",
       "8                                    NaN      NaN"
      ]
     },
     "execution_count": 17,
     "metadata": {},
     "output_type": "execute_result"
    }
   ],
   "source": [
    "df"
   ]
  },
  {
   "cell_type": "markdown",
   "metadata": {},
   "source": [
    "Remove the null value"
   ]
  },
  {
   "cell_type": "code",
   "execution_count": 22,
   "metadata": {},
   "outputs": [
    {
     "data": {
      "text/html": [
       "<div>\n",
       "<style>\n",
       "    .dataframe thead tr:only-child th {\n",
       "        text-align: right;\n",
       "    }\n",
       "\n",
       "    .dataframe thead th {\n",
       "        text-align: left;\n",
       "    }\n",
       "\n",
       "    .dataframe tbody tr th {\n",
       "        vertical-align: top;\n",
       "    }\n",
       "</style>\n",
       "<table border=\"1\" class=\"dataframe\">\n",
       "  <thead>\n",
       "    <tr style=\"text-align: right;\">\n",
       "      <th></th>\n",
       "      <th>Cause</th>\n",
       "      <th>Value</th>\n",
       "    </tr>\n",
       "  </thead>\n",
       "  <tbody>\n",
       "    <tr>\n",
       "      <th>0</th>\n",
       "      <td>Heart Disease</td>\n",
       "      <td>596,577</td>\n",
       "    </tr>\n",
       "    <tr>\n",
       "      <th>1</th>\n",
       "      <td>Chronic Obstructive Pulmonary Disease</td>\n",
       "      <td>142,942</td>\n",
       "    </tr>\n",
       "    <tr>\n",
       "      <th>2</th>\n",
       "      <td>Diabetes</td>\n",
       "      <td>73,831</td>\n",
       "    </tr>\n",
       "    <tr>\n",
       "      <th>3</th>\n",
       "      <td>Breast Cancer</td>\n",
       "      <td>41,374</td>\n",
       "    </tr>\n",
       "    <tr>\n",
       "      <th>4</th>\n",
       "      <td>Suicide</td>\n",
       "      <td>39,518</td>\n",
       "    </tr>\n",
       "    <tr>\n",
       "      <th>5</th>\n",
       "      <td>Prostrate Cancer</td>\n",
       "      <td>21,176</td>\n",
       "    </tr>\n",
       "    <tr>\n",
       "      <th>6</th>\n",
       "      <td>HIV/AIDS</td>\n",
       "      <td>7,683</td>\n",
       "    </tr>\n",
       "    <tr>\n",
       "      <th>7</th>\n",
       "      <td>Motor Neuron Disease (ALS)</td>\n",
       "      <td>6,849</td>\n",
       "    </tr>\n",
       "  </tbody>\n",
       "</table>\n",
       "</div>"
      ],
      "text/plain": [
       "                                   Cause    Value\n",
       "0                          Heart Disease  596,577\n",
       "1  Chronic Obstructive Pulmonary Disease  142,942\n",
       "2                               Diabetes   73,831\n",
       "3                          Breast Cancer   41,374\n",
       "4                                Suicide   39,518\n",
       "5                       Prostrate Cancer   21,176\n",
       "6                               HIV/AIDS    7,683\n",
       "7             Motor Neuron Disease (ALS)    6,849"
      ]
     },
     "execution_count": 22,
     "metadata": {},
     "output_type": "execute_result"
    }
   ],
   "source": [
    "df = df[pandas.notnull(df['Cause'])]\n",
    "df"
   ]
  },
  {
   "cell_type": "code",
   "execution_count": 23,
   "metadata": {},
   "outputs": [
    {
     "name": "stderr",
     "output_type": "stream",
     "text": [
      "/Users/agasthya/anaconda3/lib/python3.6/site-packages/ipykernel_launcher.py:2: SettingWithCopyWarning: \n",
      "A value is trying to be set on a copy of a slice from a DataFrame.\n",
      "Try using .loc[row_indexer,col_indexer] = value instead\n",
      "\n",
      "See the caveats in the documentation: http://pandas.pydata.org/pandas-docs/stable/indexing.html#indexing-view-versus-copy\n",
      "  \n"
     ]
    }
   ],
   "source": [
    "sampleArray = ['$54,100,000','$7,000,000','$4,200,000','$257,850,000','$3,200,000','$147,000,000','$14,000,000','$22,900,000']\n",
    "df['Donations'] = sampleArray"
   ]
  },
  {
   "cell_type": "markdown",
   "metadata": {},
   "source": [
    "The cost of treatment, risk of contracting the diseases have been collected from various sources and integrated into the DataFrame"
   ]
  },
  {
   "cell_type": "code",
   "execution_count": 25,
   "metadata": {},
   "outputs": [
    {
     "name": "stderr",
     "output_type": "stream",
     "text": [
      "/Users/agasthya/anaconda3/lib/python3.6/site-packages/ipykernel_launcher.py:3: SettingWithCopyWarning: \n",
      "A value is trying to be set on a copy of a slice from a DataFrame.\n",
      "Try using .loc[row_indexer,col_indexer] = value instead\n",
      "\n",
      "See the caveats in the documentation: http://pandas.pydata.org/pandas-docs/stable/indexing.html#indexing-view-versus-copy\n",
      "  This is separate from the ipykernel package so we can avoid doing imports until\n",
      "/Users/agasthya/anaconda3/lib/python3.6/site-packages/ipykernel_launcher.py:4: SettingWithCopyWarning: \n",
      "A value is trying to be set on a copy of a slice from a DataFrame.\n",
      "Try using .loc[row_indexer,col_indexer] = value instead\n",
      "\n",
      "See the caveats in the documentation: http://pandas.pydata.org/pandas-docs/stable/indexing.html#indexing-view-versus-copy\n",
      "  after removing the cwd from sys.path.\n"
     ]
    },
    {
     "data": {
      "text/html": [
       "<div>\n",
       "<style>\n",
       "    .dataframe thead tr:only-child th {\n",
       "        text-align: right;\n",
       "    }\n",
       "\n",
       "    .dataframe thead th {\n",
       "        text-align: left;\n",
       "    }\n",
       "\n",
       "    .dataframe tbody tr th {\n",
       "        vertical-align: top;\n",
       "    }\n",
       "</style>\n",
       "<table border=\"1\" class=\"dataframe\">\n",
       "  <thead>\n",
       "    <tr style=\"text-align: right;\">\n",
       "      <th></th>\n",
       "      <th>Cause</th>\n",
       "      <th>Value</th>\n",
       "      <th>Donations</th>\n",
       "      <th>Cost to Counter</th>\n",
       "      <th>Risk</th>\n",
       "    </tr>\n",
       "  </thead>\n",
       "  <tbody>\n",
       "    <tr>\n",
       "      <th>0</th>\n",
       "      <td>Heart Disease</td>\n",
       "      <td>596,577</td>\n",
       "      <td>$54,100,000</td>\n",
       "      <td>$18,950</td>\n",
       "      <td>0.02</td>\n",
       "    </tr>\n",
       "    <tr>\n",
       "      <th>1</th>\n",
       "      <td>Chronic Obstructive Pulmonary Disease</td>\n",
       "      <td>142,942</td>\n",
       "      <td>$7,000,000</td>\n",
       "      <td>$11,000</td>\n",
       "      <td>0.00046</td>\n",
       "    </tr>\n",
       "    <tr>\n",
       "      <th>2</th>\n",
       "      <td>Diabetes</td>\n",
       "      <td>73,831</td>\n",
       "      <td>$4,200,000</td>\n",
       "      <td>$6,000</td>\n",
       "      <td>0.11111</td>\n",
       "    </tr>\n",
       "    <tr>\n",
       "      <th>3</th>\n",
       "      <td>Breast Cancer</td>\n",
       "      <td>41,374</td>\n",
       "      <td>$257,850,000</td>\n",
       "      <td>$182,000</td>\n",
       "      <td>0.00147</td>\n",
       "    </tr>\n",
       "    <tr>\n",
       "      <th>4</th>\n",
       "      <td>Suicide</td>\n",
       "      <td>39,518</td>\n",
       "      <td>$3,200,000</td>\n",
       "      <td>$1,000</td>\n",
       "      <td>0.00013</td>\n",
       "    </tr>\n",
       "    <tr>\n",
       "      <th>5</th>\n",
       "      <td>Prostrate Cancer</td>\n",
       "      <td>21,176</td>\n",
       "      <td>$147,000,000</td>\n",
       "      <td>$120,000</td>\n",
       "      <td>0.00100</td>\n",
       "    </tr>\n",
       "    <tr>\n",
       "      <th>6</th>\n",
       "      <td>HIV/AIDS</td>\n",
       "      <td>7,683</td>\n",
       "      <td>$14,000,000</td>\n",
       "      <td>$36,000</td>\n",
       "      <td>0.00002</td>\n",
       "    </tr>\n",
       "    <tr>\n",
       "      <th>7</th>\n",
       "      <td>Motor Neuron Disease (ALS)</td>\n",
       "      <td>6,849</td>\n",
       "      <td>$22,900,000</td>\n",
       "      <td>$12,000</td>\n",
       "      <td>0.00100</td>\n",
       "    </tr>\n",
       "  </tbody>\n",
       "</table>\n",
       "</div>"
      ],
      "text/plain": [
       "                                   Cause    Value     Donations  \\\n",
       "0                          Heart Disease  596,577   $54,100,000   \n",
       "1  Chronic Obstructive Pulmonary Disease  142,942    $7,000,000   \n",
       "2                               Diabetes   73,831    $4,200,000   \n",
       "3                          Breast Cancer   41,374  $257,850,000   \n",
       "4                                Suicide   39,518    $3,200,000   \n",
       "5                       Prostrate Cancer   21,176  $147,000,000   \n",
       "6                               HIV/AIDS    7,683   $14,000,000   \n",
       "7             Motor Neuron Disease (ALS)    6,849   $22,900,000   \n",
       "\n",
       "  Cost to Counter     Risk  \n",
       "0         $18,950     0.02  \n",
       "1         $11,000  0.00046  \n",
       "2          $6,000  0.11111  \n",
       "3        $182,000  0.00147  \n",
       "4          $1,000  0.00013  \n",
       "5        $120,000  0.00100  \n",
       "6         $36,000  0.00002  \n",
       "7         $12,000  0.00100  "
      ]
     },
     "execution_count": 25,
     "metadata": {},
     "output_type": "execute_result"
    }
   ],
   "source": [
    "arrCostOfTreatment = ['$18,950','$11,000','$6,000','$182,000','$1,000','$120,000','$36,000','$12,000']\n",
    "arrRisk = ['0.02','0.00046','0.11111','0.00147','0.00013','0.00100','0.00002','0.00100']\n",
    "df['Cost to Counter'] = arrCostOfTreatment\n",
    "df['Risk'] = arrRisk\n"
   ]
  },
  {
   "cell_type": "code",
   "execution_count": 26,
   "metadata": {},
   "outputs": [
    {
     "name": "stderr",
     "output_type": "stream",
     "text": [
      "/Users/agasthya/anaconda3/lib/python3.6/site-packages/pandas/core/frame.py:2746: SettingWithCopyWarning: \n",
      "A value is trying to be set on a copy of a slice from a DataFrame\n",
      "\n",
      "See the caveats in the documentation: http://pandas.pydata.org/pandas-docs/stable/indexing.html#indexing-view-versus-copy\n",
      "  **kwargs)\n"
     ]
    }
   ],
   "source": [
    "df.rename(columns={'Value': 'Deaths'}, inplace=True)\n",
    "\n"
   ]
  },
  {
   "cell_type": "code",
   "execution_count": 27,
   "metadata": {},
   "outputs": [
    {
     "data": {
      "text/html": [
       "<div>\n",
       "<style>\n",
       "    .dataframe thead tr:only-child th {\n",
       "        text-align: right;\n",
       "    }\n",
       "\n",
       "    .dataframe thead th {\n",
       "        text-align: left;\n",
       "    }\n",
       "\n",
       "    .dataframe tbody tr th {\n",
       "        vertical-align: top;\n",
       "    }\n",
       "</style>\n",
       "<table border=\"1\" class=\"dataframe\">\n",
       "  <thead>\n",
       "    <tr style=\"text-align: right;\">\n",
       "      <th></th>\n",
       "      <th>Cause</th>\n",
       "      <th>Deaths</th>\n",
       "      <th>Donations</th>\n",
       "      <th>Cost to Counter</th>\n",
       "      <th>Risk</th>\n",
       "    </tr>\n",
       "  </thead>\n",
       "  <tbody>\n",
       "    <tr>\n",
       "      <th>0</th>\n",
       "      <td>Heart Disease</td>\n",
       "      <td>596,577</td>\n",
       "      <td>$54,100,000</td>\n",
       "      <td>$18,950</td>\n",
       "      <td>0.02</td>\n",
       "    </tr>\n",
       "    <tr>\n",
       "      <th>1</th>\n",
       "      <td>Chronic Obstructive Pulmonary Disease</td>\n",
       "      <td>142,942</td>\n",
       "      <td>$7,000,000</td>\n",
       "      <td>$11,000</td>\n",
       "      <td>0.00046</td>\n",
       "    </tr>\n",
       "    <tr>\n",
       "      <th>2</th>\n",
       "      <td>Diabetes</td>\n",
       "      <td>73,831</td>\n",
       "      <td>$4,200,000</td>\n",
       "      <td>$6,000</td>\n",
       "      <td>0.11111</td>\n",
       "    </tr>\n",
       "    <tr>\n",
       "      <th>3</th>\n",
       "      <td>Breast Cancer</td>\n",
       "      <td>41,374</td>\n",
       "      <td>$257,850,000</td>\n",
       "      <td>$182,000</td>\n",
       "      <td>0.00147</td>\n",
       "    </tr>\n",
       "    <tr>\n",
       "      <th>4</th>\n",
       "      <td>Suicide</td>\n",
       "      <td>39,518</td>\n",
       "      <td>$3,200,000</td>\n",
       "      <td>$1,000</td>\n",
       "      <td>0.00013</td>\n",
       "    </tr>\n",
       "    <tr>\n",
       "      <th>5</th>\n",
       "      <td>Prostrate Cancer</td>\n",
       "      <td>21,176</td>\n",
       "      <td>$147,000,000</td>\n",
       "      <td>$120,000</td>\n",
       "      <td>0.00100</td>\n",
       "    </tr>\n",
       "    <tr>\n",
       "      <th>6</th>\n",
       "      <td>HIV/AIDS</td>\n",
       "      <td>7,683</td>\n",
       "      <td>$14,000,000</td>\n",
       "      <td>$36,000</td>\n",
       "      <td>0.00002</td>\n",
       "    </tr>\n",
       "    <tr>\n",
       "      <th>7</th>\n",
       "      <td>Motor Neuron Disease (ALS)</td>\n",
       "      <td>6,849</td>\n",
       "      <td>$22,900,000</td>\n",
       "      <td>$12,000</td>\n",
       "      <td>0.00100</td>\n",
       "    </tr>\n",
       "  </tbody>\n",
       "</table>\n",
       "</div>"
      ],
      "text/plain": [
       "                                   Cause   Deaths     Donations  \\\n",
       "0                          Heart Disease  596,577   $54,100,000   \n",
       "1  Chronic Obstructive Pulmonary Disease  142,942    $7,000,000   \n",
       "2                               Diabetes   73,831    $4,200,000   \n",
       "3                          Breast Cancer   41,374  $257,850,000   \n",
       "4                                Suicide   39,518    $3,200,000   \n",
       "5                       Prostrate Cancer   21,176  $147,000,000   \n",
       "6                               HIV/AIDS    7,683   $14,000,000   \n",
       "7             Motor Neuron Disease (ALS)    6,849   $22,900,000   \n",
       "\n",
       "  Cost to Counter     Risk  \n",
       "0         $18,950     0.02  \n",
       "1         $11,000  0.00046  \n",
       "2          $6,000  0.11111  \n",
       "3        $182,000  0.00147  \n",
       "4          $1,000  0.00013  \n",
       "5        $120,000  0.00100  \n",
       "6         $36,000  0.00002  \n",
       "7         $12,000  0.00100  "
      ]
     },
     "execution_count": 27,
     "metadata": {},
     "output_type": "execute_result"
    }
   ],
   "source": [
    "df"
   ]
  },
  {
   "cell_type": "markdown",
   "metadata": {},
   "source": [
    "The dataframe is saved as a CSV file"
   ]
  },
  {
   "cell_type": "code",
   "execution_count": 28,
   "metadata": {
    "collapsed": true
   },
   "outputs": [],
   "source": [
    "df.to_csv('Metrics.csv')\n"
   ]
  },
  {
   "cell_type": "markdown",
   "metadata": {},
   "source": [
    "![alt text](FinalViz.png \"Title\")"
   ]
  },
  {
   "cell_type": "markdown",
   "metadata": {},
   "source": [
    "In the final Iteration of my visualization, I have included the likeliness of contracting(Risk) each of the most common causes of death. This along with the cost of treatment(Cost) lets me know that the highest donations are to diseases that are less likely to occur and at the same time have higher costs of treatment. I have represented this as a scatter plot because, the treatment costs of the disease and the risk of contracting those diseases are two separate entities, there are huge gaps in the costs of treatment and combining these could be effectively shown in a scatter plot. \n",
    "\n",
    "In addition to this, I have combined the bar charts of my previous visualizations and changed the representation to a scatter plot which shows the number of deaths caused and donations received by the common causes of death.\n"
   ]
  }
 ],
 "metadata": {
  "kernelspec": {
   "display_name": "Python 3",
   "language": "python",
   "name": "python3"
  },
  "language_info": {
   "codemirror_mode": {
    "name": "ipython",
    "version": 3
   },
   "file_extension": ".py",
   "mimetype": "text/x-python",
   "name": "python",
   "nbconvert_exporter": "python",
   "pygments_lexer": "ipython3",
   "version": "3.6.2"
  }
 },
 "nbformat": 4,
 "nbformat_minor": 2
}
