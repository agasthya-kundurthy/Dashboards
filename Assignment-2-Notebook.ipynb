{
 "cells": [
  {
   "cell_type": "markdown",
   "metadata": {},
   "source": [
    "Import the frameworks"
   ]
  },
  {
   "cell_type": "code",
   "execution_count": 1,
   "metadata": {
    "ExecuteTime": {
     "end_time": "2017-09-30T17:32:10.949366Z",
     "start_time": "2017-09-30T17:32:10.498354Z"
    }
   },
   "outputs": [],
   "source": [
    "import pandas\n",
    "import numpy"
   ]
  },
  {
   "cell_type": "code",
   "execution_count": 2,
   "metadata": {
    "ExecuteTime": {
     "end_time": "2017-09-30T17:32:13.225718Z",
     "start_time": "2017-09-30T17:32:13.191199Z"
    }
   },
   "outputs": [],
   "source": [
    "file1 = pandas.read_csv('Assignment1_2017.csv')"
   ]
  },
  {
   "cell_type": "code",
   "execution_count": 3,
   "metadata": {
    "ExecuteTime": {
     "end_time": "2017-09-30T17:32:17.757701Z",
     "start_time": "2017-09-30T17:32:17.692358Z"
    }
   },
   "outputs": [
    {
     "data": {
      "text/html": [
       "<div>\n",
       "<style>\n",
       "    .dataframe thead tr:only-child th {\n",
       "        text-align: right;\n",
       "    }\n",
       "\n",
       "    .dataframe thead th {\n",
       "        text-align: left;\n",
       "    }\n",
       "\n",
       "    .dataframe tbody tr th {\n",
       "        vertical-align: top;\n",
       "    }\n",
       "</style>\n",
       "<table border=\"1\" class=\"dataframe\">\n",
       "  <thead>\n",
       "    <tr style=\"text-align: right;\">\n",
       "      <th></th>\n",
       "      <th>Unnamed: 0</th>\n",
       "      <th>Unnamed: 1</th>\n",
       "      <th>Unnamed: 2</th>\n",
       "      <th>Unnamed: 3</th>\n",
       "      <th>Unnamed: 4</th>\n",
       "      <th>Unnamed: 5</th>\n",
       "      <th>Unnamed: 6</th>\n",
       "      <th>Unnamed: 7</th>\n",
       "      <th>Unnamed: 8</th>\n",
       "      <th>Unnamed: 9</th>\n",
       "      <th>Unnamed: 10</th>\n",
       "      <th>Unnamed: 11</th>\n",
       "      <th>Unnamed: 12</th>\n",
       "      <th>Unnamed: 13</th>\n",
       "      <th>Unnamed: 14</th>\n",
       "      <th>Unnamed: 15</th>\n",
       "      <th>Unnamed: 16</th>\n",
       "      <th>Unnamed: 17</th>\n",
       "    </tr>\n",
       "  </thead>\n",
       "  <tbody>\n",
       "    <tr>\n",
       "      <th>0</th>\n",
       "      <td>Entity</td>\n",
       "      <td>alternative name</td>\n",
       "      <td>story</td>\n",
       "      <td>YEAR</td>\n",
       "      <td>records lost</td>\n",
       "      <td>ORGANISATION</td>\n",
       "      <td>METHOD OF LEAK</td>\n",
       "      <td>interesting story</td>\n",
       "      <td>NO OF RECORDS STOLEN</td>\n",
       "      <td>DATA SENSITIVITY</td>\n",
       "      <td>UNUSED</td>\n",
       "      <td>UNUSED</td>\n",
       "      <td>Exclude</td>\n",
       "      <td>NaN</td>\n",
       "      <td>1st source link</td>\n",
       "      <td>2nd source link</td>\n",
       "      <td>3rd source</td>\n",
       "      <td>source name</td>\n",
       "    </tr>\n",
       "    <tr>\n",
       "      <th>1</th>\n",
       "      <td>NaN</td>\n",
       "      <td>NaN</td>\n",
       "      <td>Elaboration if there's an interesting story or...</td>\n",
       "      <td>years are encoded (0=2004, 8 = 2012, 9 = 2013,...</td>\n",
       "      <td>(use 3m, 4m, 5m or 10m to approximate unknown ...</td>\n",
       "      <td>NaN</td>\n",
       "      <td>NaN</td>\n",
       "      <td>NaN</td>\n",
       "      <td>(use 3m, 4m, 5m or 10m to approximate unknown ...</td>\n",
       "      <td>1. Just email address/Online information 20 SS...</td>\n",
       "      <td>NaN</td>\n",
       "      <td>NaN</td>\n",
       "      <td>Show this item in the viz?</td>\n",
       "      <td>NaN</td>\n",
       "      <td>NaN</td>\n",
       "      <td>NaN</td>\n",
       "      <td>NaN</td>\n",
       "      <td>NaN</td>\n",
       "    </tr>\n",
       "    <tr>\n",
       "      <th>2</th>\n",
       "      <td>AOL</td>\n",
       "      <td>American Online</td>\n",
       "      <td>A former America Online software engineer stol...</td>\n",
       "      <td>0</td>\n",
       "      <td>92000000</td>\n",
       "      <td>web</td>\n",
       "      <td>inside job</td>\n",
       "      <td>NaN</td>\n",
       "      <td>92000000</td>\n",
       "      <td>1</td>\n",
       "      <td>NaN</td>\n",
       "      <td>NaN</td>\n",
       "      <td>NaN</td>\n",
       "      <td>NaN</td>\n",
       "      <td>http://money.cnn.com/2004/06/23/technology/aol...</td>\n",
       "      <td>http://www.msnbc.msn.com/id/8985989/#.UFcN8RgUwaA</td>\n",
       "      <td>NaN</td>\n",
       "      <td>CNN</td>\n",
       "    </tr>\n",
       "    <tr>\n",
       "      <th>3</th>\n",
       "      <td>Automatic Data Processing</td>\n",
       "      <td>Business outsourcing, payrolls, benefits</td>\n",
       "      <td>NaN</td>\n",
       "      <td>1</td>\n",
       "      <td>125000</td>\n",
       "      <td>financial</td>\n",
       "      <td>poor security</td>\n",
       "      <td>NaN</td>\n",
       "      <td>130000</td>\n",
       "      <td>20</td>\n",
       "      <td>NaN</td>\n",
       "      <td>NaN</td>\n",
       "      <td>NaN</td>\n",
       "      <td>NaN</td>\n",
       "      <td>http://abcnews.go.com/Technology/story?id=2160...</td>\n",
       "      <td>NaN</td>\n",
       "      <td>NaN</td>\n",
       "      <td>ABC</td>\n",
       "    </tr>\n",
       "    <tr>\n",
       "      <th>4</th>\n",
       "      <td>Ameritrade Inc.</td>\n",
       "      <td>Computer backup tape containing personal infor...</td>\n",
       "      <td>online broker</td>\n",
       "      <td>1</td>\n",
       "      <td>200000</td>\n",
       "      <td>financial</td>\n",
       "      <td>lost / stolen device</td>\n",
       "      <td>NaN</td>\n",
       "      <td>200000</td>\n",
       "      <td>20</td>\n",
       "      <td>NaN</td>\n",
       "      <td>NaN</td>\n",
       "      <td>NaN</td>\n",
       "      <td>NaN</td>\n",
       "      <td>http://www.nbcnews.com/id/7561268/</td>\n",
       "      <td>NaN</td>\n",
       "      <td>NaN</td>\n",
       "      <td>NaN</td>\n",
       "    </tr>\n",
       "  </tbody>\n",
       "</table>\n",
       "</div>"
      ],
      "text/plain": [
       "                  Unnamed: 0  \\\n",
       "0                     Entity   \n",
       "1                        NaN   \n",
       "2                        AOL   \n",
       "3  Automatic Data Processing   \n",
       "4            Ameritrade Inc.   \n",
       "\n",
       "                                          Unnamed: 1  \\\n",
       "0                                   alternative name   \n",
       "1                                                NaN   \n",
       "2                                    American Online   \n",
       "3           Business outsourcing, payrolls, benefits   \n",
       "4  Computer backup tape containing personal infor...   \n",
       "\n",
       "                                          Unnamed: 2  \\\n",
       "0                                              story   \n",
       "1  Elaboration if there's an interesting story or...   \n",
       "2  A former America Online software engineer stol...   \n",
       "3                                                NaN   \n",
       "4                                      online broker   \n",
       "\n",
       "                                          Unnamed: 3  \\\n",
       "0                                               YEAR   \n",
       "1  years are encoded (0=2004, 8 = 2012, 9 = 2013,...   \n",
       "2                                                  0   \n",
       "3                                                  1   \n",
       "4                                                  1   \n",
       "\n",
       "                                          Unnamed: 4    Unnamed: 5  \\\n",
       "0                                       records lost  ORGANISATION   \n",
       "1  (use 3m, 4m, 5m or 10m to approximate unknown ...           NaN   \n",
       "2                                           92000000           web   \n",
       "3                                             125000     financial   \n",
       "4                                             200000     financial   \n",
       "\n",
       "             Unnamed: 6         Unnamed: 7  \\\n",
       "0        METHOD OF LEAK  interesting story   \n",
       "1                   NaN                NaN   \n",
       "2            inside job                NaN   \n",
       "3         poor security                NaN   \n",
       "4  lost / stolen device                NaN   \n",
       "\n",
       "                                          Unnamed: 8  \\\n",
       "0                               NO OF RECORDS STOLEN   \n",
       "1  (use 3m, 4m, 5m or 10m to approximate unknown ...   \n",
       "2                                           92000000   \n",
       "3                                             130000   \n",
       "4                                             200000   \n",
       "\n",
       "                                          Unnamed: 9 Unnamed: 10 Unnamed: 11  \\\n",
       "0                                   DATA SENSITIVITY      UNUSED      UNUSED   \n",
       "1  1. Just email address/Online information 20 SS...         NaN         NaN   \n",
       "2                                                  1         NaN         NaN   \n",
       "3                                                 20         NaN         NaN   \n",
       "4                                                 20         NaN         NaN   \n",
       "\n",
       "                  Unnamed: 12 Unnamed: 13  \\\n",
       "0                     Exclude         NaN   \n",
       "1  Show this item in the viz?         NaN   \n",
       "2                         NaN         NaN   \n",
       "3                         NaN         NaN   \n",
       "4                         NaN         NaN   \n",
       "\n",
       "                                         Unnamed: 14  \\\n",
       "0                                    1st source link   \n",
       "1                                                NaN   \n",
       "2  http://money.cnn.com/2004/06/23/technology/aol...   \n",
       "3  http://abcnews.go.com/Technology/story?id=2160...   \n",
       "4                 http://www.nbcnews.com/id/7561268/   \n",
       "\n",
       "                                         Unnamed: 15 Unnamed: 16  Unnamed: 17  \n",
       "0                                    2nd source link  3rd source  source name  \n",
       "1                                                NaN         NaN          NaN  \n",
       "2  http://www.msnbc.msn.com/id/8985989/#.UFcN8RgUwaA         NaN          CNN  \n",
       "3                                                NaN         NaN          ABC  \n",
       "4                                                NaN         NaN          NaN  "
      ]
     },
     "execution_count": 3,
     "metadata": {},
     "output_type": "execute_result"
    }
   ],
   "source": [
    "file1.head()"
   ]
  },
  {
   "cell_type": "markdown",
   "metadata": {},
   "source": [
    "Removing Unneccessary Columns"
   ]
  },
  {
   "cell_type": "code",
   "execution_count": 4,
   "metadata": {
    "ExecuteTime": {
     "end_time": "2017-09-30T17:32:23.228821Z",
     "start_time": "2017-09-30T17:32:23.222407Z"
    }
   },
   "outputs": [],
   "source": [
    "file1.drop(['Unnamed: 1','Unnamed: 2','Unnamed: 7','Unnamed: 8','Unnamed: 10','Unnamed: 11','Unnamed: 12','Unnamed: 13','Unnamed: 14','Unnamed: 15','Unnamed: 16','Unnamed: 17'], axis= 1, inplace= True)"
   ]
  },
  {
   "cell_type": "markdown",
   "metadata": {},
   "source": [
    "Convert the notations to years."
   ]
  },
  {
   "cell_type": "code",
   "execution_count": 5,
   "metadata": {
    "ExecuteTime": {
     "end_time": "2017-09-30T17:32:33.771975Z",
     "start_time": "2017-09-30T17:32:33.670928Z"
    }
   },
   "outputs": [],
   "source": [
    "file1.loc[file1['Unnamed: 3'] == '0', 'Unnamed: 3'] = '2004'\n",
    "file1.loc[file1['Unnamed: 3'] == '1', 'Unnamed: 3'] = '2005'\n",
    "file1.loc[file1['Unnamed: 3'] == '2', 'Unnamed: 3'] = '2006'\n",
    "file1.loc[file1['Unnamed: 3'] == '3', 'Unnamed: 3'] = '2007'\n",
    "file1.loc[file1['Unnamed: 3'] == '4', 'Unnamed: 3'] = '2008'\n",
    "file1.loc[file1['Unnamed: 3'] == '5', 'Unnamed: 3'] = '2009'\n",
    "file1.loc[file1['Unnamed: 3'] == '6', 'Unnamed: 3'] = '2010'\n",
    "file1.loc[file1['Unnamed: 3'] == '7', 'Unnamed: 3'] = '2011'\n",
    "file1.loc[file1['Unnamed: 3'] == '8', 'Unnamed: 3'] = '2012'\n",
    "file1.loc[file1['Unnamed: 3'] == '9', 'Unnamed: 3'] = '2013'\n",
    "file1.loc[file1['Unnamed: 3'] == '10', 'Unnamed: 3'] = '2014'\n",
    "file1.loc[file1['Unnamed: 3'] == '11', 'Unnamed: 3'] = '2015'\n",
    "file1.loc[file1['Unnamed: 3'] == '12', 'Unnamed: 3'] = '2016'\n",
    "file1.loc[file1['Unnamed: 3'] == '13', 'Unnamed: 3'] = '2017'\n",
    "file1.loc[file1['Unnamed: 3'] == '14', 'Unnamed: 3'] = '2017'\n"
   ]
  },
  {
   "cell_type": "markdown",
   "metadata": {},
   "source": [
    "Change names of columns"
   ]
  },
  {
   "cell_type": "code",
   "execution_count": 6,
   "metadata": {
    "ExecuteTime": {
     "end_time": "2017-09-30T17:32:37.824500Z",
     "start_time": "2017-09-30T17:32:37.815772Z"
    }
   },
   "outputs": [],
   "source": [
    "file1.rename(columns={'Unnamed: 1': 'Alternative Name'}, inplace=True)\n",
    "file1.rename(columns={'Unnamed: 0': 'Entity','Unnamed: 2': 'Story', 'Unnamed: 3': 'Year','Unnamed: 4': 'Records Lost','Unnamed: 5': 'Organisation','Unnamed: 6': 'Method of Leak','Unnamed: 7': 'Intresting Story','Unnamed: 8': 'No of Records Stolen','Unnamed: 9': 'Data Sensitivity','Unnamed: 14': '1st source link','Unnamed: 15': '2nd source link','Unnamed: 16': '3rd source','Unnamed: 17': 'Source Name'}, inplace=True)"
   ]
  },
  {
   "cell_type": "markdown",
   "metadata": {},
   "source": [
    "Drop unwanted rows!"
   ]
  },
  {
   "cell_type": "code",
   "execution_count": 7,
   "metadata": {
    "ExecuteTime": {
     "end_time": "2017-09-30T17:32:47.889337Z",
     "start_time": "2017-09-30T17:32:47.883156Z"
    }
   },
   "outputs": [],
   "source": [
    "file1.drop(file1.index[0], inplace= True)\n"
   ]
  },
  {
   "cell_type": "code",
   "execution_count": 8,
   "metadata": {
    "ExecuteTime": {
     "end_time": "2017-09-30T17:32:49.675576Z",
     "start_time": "2017-09-30T17:32:49.669829Z"
    }
   },
   "outputs": [],
   "source": [
    "file1.drop(file1.index[0], inplace= True)\n"
   ]
  },
  {
   "cell_type": "markdown",
   "metadata": {},
   "source": [
    "change Data Sensitivity information."
   ]
  },
  {
   "cell_type": "code",
   "execution_count": 9,
   "metadata": {
    "ExecuteTime": {
     "end_time": "2017-09-30T17:32:52.624842Z",
     "start_time": "2017-09-30T17:32:52.593089Z"
    }
   },
   "outputs": [],
   "source": [
    "file1.loc[file1['Data Sensitivity'] == '1', 'Data Sensitivity'] = 'E-mail Address or Online Information'\n",
    "file1.loc[file1['Data Sensitivity'] == '20', 'Data Sensitivity'] = 'SSN/Personal Details'\n",
    "file1.loc[file1['Data Sensitivity'] == '300', 'Data Sensitivity'] = 'Credit Card Information'\n",
    "file1.loc[file1['Data Sensitivity'] == '4000', 'Data Sensitivity'] = 'E-mail Password or Health Records'\n",
    "file1.loc[file1['Data Sensitivity'] == '50000', 'Data Sensitivity'] = 'Full Bank account Details'\n"
   ]
  },
  {
   "cell_type": "markdown",
   "metadata": {},
   "source": [
    "There is one row with an unmentioned data sensitivity, '3', assuming its '300', changing its value."
   ]
  },
  {
   "cell_type": "code",
   "execution_count": 10,
   "metadata": {
    "ExecuteTime": {
     "end_time": "2017-09-30T17:32:56.836743Z",
     "start_time": "2017-09-30T17:32:56.824110Z"
    }
   },
   "outputs": [],
   "source": [
    "file1.loc[file1['Data Sensitivity'] == '3', 'Data Sensitivity'] = 'Credit Card Information'\n"
   ]
  },
  {
   "cell_type": "markdown",
   "metadata": {},
   "source": [
    "Search for any empty rows and remove them."
   ]
  },
  {
   "cell_type": "code",
   "execution_count": 11,
   "metadata": {
    "ExecuteTime": {
     "end_time": "2017-09-30T17:33:00.007033Z",
     "start_time": "2017-09-30T17:32:59.995310Z"
    }
   },
   "outputs": [
    {
     "data": {
      "text/plain": [
       "2"
      ]
     },
     "execution_count": 11,
     "metadata": {},
     "output_type": "execute_result"
    }
   ],
   "source": [
    "len(numpy.where(file1['Records Lost'].isnull())[0])"
   ]
  },
  {
   "cell_type": "code",
   "execution_count": 12,
   "metadata": {
    "ExecuteTime": {
     "end_time": "2017-09-30T17:33:05.917029Z",
     "start_time": "2017-09-30T17:33:05.903679Z"
    }
   },
   "outputs": [
    {
     "data": {
      "text/plain": [
       "array([146, 162])"
      ]
     },
     "execution_count": 12,
     "metadata": {},
     "output_type": "execute_result"
    }
   ],
   "source": [
    "numpy.where(file1['Records Lost'].isnull())[0]"
   ]
  },
  {
   "cell_type": "code",
   "execution_count": 13,
   "metadata": {
    "ExecuteTime": {
     "end_time": "2017-09-30T17:33:08.102592Z",
     "start_time": "2017-09-30T17:33:08.094431Z"
    }
   },
   "outputs": [],
   "source": [
    "file1.iloc[146]\n",
    "file1=file1.dropna()"
   ]
  },
  {
   "cell_type": "markdown",
   "metadata": {},
   "source": [
    "Save data to a csv file"
   ]
  },
  {
   "cell_type": "code",
   "execution_count": 14,
   "metadata": {
    "ExecuteTime": {
     "end_time": "2017-09-30T17:33:10.758992Z",
     "start_time": "2017-09-30T17:33:10.742286Z"
    }
   },
   "outputs": [],
   "source": [
    "file1.to_csv('Assignment-2-CleanedData.csv')\n"
   ]
  },
  {
   "cell_type": "markdown",
   "metadata": {},
   "source": [
    "I refute the claim that Data breaches are becoming less severe. There has been an increase in the Data breaches from 2016 to the present year 2017. The number of records that have been lost has also increased from the past year.\n",
    "Data breach severe can mean three things -\n",
    "It can based on the number of incidents in an year.\n",
    "It can be based on number of records lost in an incident.\n",
    "It can be based on the sensitivity of the information lost.\n",
    "Version - 1 : https://public.tableau.com/profile/aashreya.agasthya.kundurthy#!/vizhome/Assignment-2_7/No_OfRecordsLost\n",
    "\n",
    "It gives only a basic graph on how the data breaches might have increased based on the number of records that have been lost.\n",
    "\n",
    "Disadvantage - It doesn’t give any insight on the number of incidents that occurred during the years.\n",
    "\n",
    "Version - 2 : https://public.tableau.com/profile/aashreya.agasthya.kundurthy#!/vizhome/Assignment-2_7/NoofIncidentsandNoofRecordslostontherise\n",
    "It gives a comparison between the number of records lost over the years and also forms a base on the number of incidents that have been identified over the years. This confirms the assumption that data breaches has increased from the past year.\n",
    "\n",
    "Disadvantage - It doesn’t give an idea based on sensitivity of the information lost.\n",
    "\n",
    "Version-3 : It gives a complete sense of information provided through the data set.\n",
    "Graph - 1 : https://public.tableau.com/profile/aashreya.agasthya.kundurthy#!/vizhome/Assignment-2_7/NumberOfIncidentsbasedonSensitivity\n",
    "It gives an overview of the number of incidents that have occurred and records lost over the years taking into account the Data Sensitivity of the information. From this, it is evident that credit card information is becoming more secure.\n",
    "\n",
    "Graph - 2: https://public.tableau.com/profile/aashreya.agasthya.kundurthy#!/vizhome/Assignment-2_7/Commonmethodofleak-Hacking\n",
    "Shows the method of leak of incidents over the years and gives an idea on the most prevailing method. \n",
    "\n",
    "Graph - 3: https://public.tableau.com/profile/aashreya.agasthya.kundurthy#!/vizhome/Assignment-2_7/IncidentsinTechvsNon-TechNon-techmoresecure\n",
    "It compares the number of incidents between the Tech savvy and non-tech companies. It shows that the number of incidents in non-tech companies is going down."
   ]
  }
 ],
 "metadata": {
  "kernelspec": {
   "display_name": "Python 3",
   "language": "python",
   "name": "python3"
  },
  "language_info": {
   "codemirror_mode": {
    "name": "ipython",
    "version": 3
   },
   "file_extension": ".py",
   "mimetype": "text/x-python",
   "name": "python",
   "nbconvert_exporter": "python",
   "pygments_lexer": "ipython3",
   "version": "3.6.2"
  },
  "toc": {
   "nav_menu": {},
   "number_sections": true,
   "sideBar": true,
   "skip_h1_title": false,
   "toc_cell": false,
   "toc_position": {},
   "toc_section_display": "block",
   "toc_window_display": false
  },
  "varInspector": {
   "cols": {
    "lenName": 16,
    "lenType": 16,
    "lenVar": 40
   },
   "kernels_config": {
    "python": {
     "delete_cmd_postfix": "",
     "delete_cmd_prefix": "del ",
     "library": "var_list.py",
     "varRefreshCmd": "print(var_dic_list())"
    },
    "r": {
     "delete_cmd_postfix": ") ",
     "delete_cmd_prefix": "rm(",
     "library": "var_list.r",
     "varRefreshCmd": "cat(var_dic_list()) "
    }
   },
   "types_to_exclude": [
    "module",
    "function",
    "builtin_function_or_method",
    "instance",
    "_Feature"
   ],
   "window_display": false
  }
 },
 "nbformat": 4,
 "nbformat_minor": 2
}
