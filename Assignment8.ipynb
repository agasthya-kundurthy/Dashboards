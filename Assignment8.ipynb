{
 "cells": [
  {
   "cell_type": "markdown",
   "metadata": {},
   "source": [
    "This Python file contains the code for web scrapping data about the MSIS program of SCU, Median pay for MSIS graduates.\n",
    "\n",
    "Import all the required libraries."
   ]
  },
  {
   "cell_type": "code",
   "execution_count": 1,
   "metadata": {
    "collapsed": true
   },
   "outputs": [],
   "source": [
    "import pandas\n",
    "import requests"
   ]
  },
  {
   "cell_type": "code",
   "execution_count": 2,
   "metadata": {
    "collapsed": true
   },
   "outputs": [],
   "source": [
    "from bs4 import BeautifulSoup"
   ]
  },
  {
   "cell_type": "markdown",
   "metadata": {},
   "source": [
    "Tried to web scrape data using LinkedIn, but could not do it. I realised late that we need to use Selenium becasue of the dynamic nature of the website. "
   ]
  },
  {
   "cell_type": "code",
   "execution_count": 3,
   "metadata": {
    "collapsed": true
   },
   "outputs": [],
   "source": [
    "url = 'https://www.linkedin.com/school/10458916/'\n"
   ]
  },
  {
   "cell_type": "code",
   "execution_count": 4,
   "metadata": {},
   "outputs": [],
   "source": [
    "r = requests.get(url)\n",
    "##rtext = r.text()\n",
    "soup = BeautifulSoup(r.content, \"lxml\")\n"
   ]
  },
  {
   "cell_type": "code",
   "execution_count": 5,
   "metadata": {},
   "outputs": [],
   "source": [
    "for links in soup.find_all(\"a\"):\n",
    "    print(links.get(\"href\"))"
   ]
  },
  {
   "cell_type": "code",
   "execution_count": 6,
   "metadata": {},
   "outputs": [],
   "source": [
    "for links in soup.find_all(\"a\"):\n",
    "    print(links.get(\"href\"),\"  \", links)"
   ]
  },
  {
   "cell_type": "code",
   "execution_count": 7,
   "metadata": {},
   "outputs": [],
   "source": [
    "url1 = 'https://www.linkedin.com/school/10458916/alumni/'\n",
    "r1 = requests.get(url1)\n",
    "r1.content\n",
    "soup1 = BeautifulSoup(r1.content, \"html5lib\")\n"
   ]
  },
  {
   "cell_type": "code",
   "execution_count": 8,
   "metadata": {},
   "outputs": [],
   "source": [
    "for links1 in soup1.find_all(\"a\"):\n",
    "    print(links1.get(\"href\"))"
   ]
  },
  {
   "cell_type": "markdown",
   "metadata": {},
   "source": [
    "Extracted data from SCU website to get a normal overview of the MSIS program."
   ]
  },
  {
   "cell_type": "code",
   "execution_count": 9,
   "metadata": {
    "collapsed": true
   },
   "outputs": [],
   "source": [
    "url2 = 'https://www.scu.edu/business/ms-information-systems/prospective-students/class-profile/'\n",
    "r2 = requests.get(url2)\n",
    "r2.content\n",
    "soup2 = BeautifulSoup(r2.content, \"lxml\")\n"
   ]
  },
  {
   "cell_type": "code",
   "execution_count": 10,
   "metadata": {},
   "outputs": [
    {
     "name": "stdout",
     "output_type": "stream",
     "text": [
      "Class DemographicsWomen : 51%\n",
      "Average age : 26\n",
      "Multilingual :  89%\n",
      "AcademicsAverage undergraduate GPA  3.2\n",
      "Average GMAT  650\n",
      "Average GRE  308\n",
      "% holding graduate degrees  20%\n",
      "Professional ProfileAverage work experience :  2.3 years\n",
      "Employed at time of admission : 66%\n",
      "Selected hiring companies :  Apple, Cisco, Ernst & Young, Facebook, NetApp, NVIDIA, Symantec, Twitter\n",
      "Where SCU works\n"
     ]
    }
   ],
   "source": [
    "for data1 in soup2.find_all(\"div\", {\"class\" : \"media-body\"}):\n",
    "    print(data1.text)\n"
   ]
  },
  {
   "cell_type": "markdown",
   "metadata": {},
   "source": [
    "Tried to get data from a website called UberGrad."
   ]
  },
  {
   "cell_type": "code",
   "execution_count": 11,
   "metadata": {},
   "outputs": [],
   "source": [
    "url3 = 'https://www.ubergrad.com/universities/usa/mba-in-management-information-systems/top-universities'\n",
    "\n",
    "r3 = requests.get(url3, auth = ('agasthya.agu@gmail.com','agasthya1992'))\n",
    "soup3 = BeautifulSoup(r3.content, \"lxml\")\n",
    "\n"
   ]
  },
  {
   "cell_type": "markdown",
   "metadata": {
    "collapsed": true
   },
   "source": [
    "Tried using session to login to the website as the data I needed was restricted by a login access."
   ]
  },
  {
   "cell_type": "code",
   "execution_count": 12,
   "metadata": {
    "collapsed": true
   },
   "outputs": [],
   "source": [
    "from lxml import html\n",
    "\n",
    "session_requests = requests.session()\n",
    "\n",
    "login_url = \"https://www.ubergrad.com/login\"\n",
    "result = session_requests.get(login_url)\n",
    "payload = {\n",
    "\t\"ctl00$HTMLSection$ctl00$txtUsername\": \"agasthya.agu@gmail.com\", \n",
    "\t\"ctl00$HTMLSection$ctl00$txtPassword\": \"agasthya1992\", \n",
    "\t\"csrfmiddlewaretoken\": \"<CSRF_TOKEN>\"\n",
    "}\n",
    "tree = html.fromstring(result.text)\n",
    "#authenticity_token = list(set(tree.xpath(\"//input[@name='csrfmiddlewaretoken']/@value\")))[0]\n",
    "result = session_requests.post(\n",
    "\tlogin_url, \n",
    "\tdata = payload, \n",
    "\theaders = dict(referer=login_url)\n",
    ")"
   ]
  },
  {
   "cell_type": "code",
   "execution_count": 13,
   "metadata": {
    "collapsed": true
   },
   "outputs": [],
   "source": [
    "url = 'https://www.ubergrad.com/universities/usa/mba-in-management-information-systems/top-universities'\n",
    "result = session_requests.get(\n",
    "\turl, \n",
    "\theaders = dict(referer = url)\n",
    ")"
   ]
  },
  {
   "cell_type": "code",
   "execution_count": 14,
   "metadata": {},
   "outputs": [],
   "source": [
    "soup3 = BeautifulSoup(result.content, \"lxml\")\n",
    "\n"
   ]
  },
  {
   "cell_type": "markdown",
   "metadata": {},
   "source": [
    "After trying normal methods, I tried using Selenium with a webdriver to get data. But was able to open the website, still faced login issues. I had spent a lot of time trying to fix this, but was unable to do so. So, I went back to trying to get data from a normal html website."
   ]
  },
  {
   "cell_type": "code",
   "execution_count": 15,
   "metadata": {
    "collapsed": true
   },
   "outputs": [],
   "source": [
    "from selenium import webdriver\n",
    "import os\n",
    "path_to_chromedriver = '/Applications/chromedriver'\n",
    "browser = webdriver.Chrome(path_to_chromedriver)\n",
    "url = 'https://www.ubergrad.com/universities/usa/mba-in-management-information-systems/top-universities'\n",
    "browser.get(url)\n"
   ]
  },
  {
   "cell_type": "markdown",
   "metadata": {},
   "source": [
    "Needed median Pay information of people who work in MSIS related careers. This would give a view of how beneficial it would be to study a MSIS degree."
   ]
  },
  {
   "cell_type": "code",
   "execution_count": 16,
   "metadata": {
    "collapsed": true
   },
   "outputs": [],
   "source": [
    "urlPay = 'https://www.payscale.com/research/US/Degree=Master_of_Science_(MS)%2C_Management_Information_Systems_(MIS)/Salary'\n",
    "rPay = requests.get(urlPay)\n",
    "rPay.content\n",
    "soupPay = BeautifulSoup(rPay.content, \"lxml\")\n",
    "#print(soup.prettify())"
   ]
  },
  {
   "cell_type": "code",
   "execution_count": null,
   "metadata": {},
   "outputs": [],
   "source": []
  },
  {
   "cell_type": "markdown",
   "metadata": {},
   "source": [
    "Saving the Data to arrays and later form DataFrames."
   ]
  },
  {
   "cell_type": "code",
   "execution_count": 19,
   "metadata": {},
   "outputs": [
    {
     "name": "stdout",
     "output_type": "stream",
     "text": [
      "['$81,591', '$86,000', '$119,792', '$81,472', '$105,000', '$103,917', '$132,250']\n",
      "['Project Manager, Information Technology (IT)', 'Software Engineer', 'Network Security Engineer', 'Software Developer', 'Senior Business Analyst', 'Senior Project Manager, IT', 'Information Technology (IT) Manager']\n"
     ]
    }
   ],
   "source": [
    "arrJobType = []\n",
    "arrJobSalary = []\n",
    "iCount = 0\n",
    "for dataPay in soupPay.find_all(\"td\"):\n",
    "    if(iCount < 14):\n",
    "        iCount = iCount+1\n",
    "        if(iCount%2 != 0):\n",
    "            arrJobType.append(dataPay.text)\n",
    "        else:\n",
    "            arrJobSalary.append(dataPay.text)\n",
    "\n",
    "print(arrJobSalary)\n",
    "print(arrJobType)"
   ]
  },
  {
   "cell_type": "markdown",
   "metadata": {},
   "source": [
    "Get Data that shows the % job growth for the possible career tracks"
   ]
  },
  {
   "cell_type": "code",
   "execution_count": 21,
   "metadata": {},
   "outputs": [],
   "source": [
    "urlPay10 = 'http://study.com/articles/Salary_and_Job_Information_for_MIS_Majors.html'\n",
    "rPay10 = requests.get(urlPay10)\n",
    "rPay10.content\n",
    "soupPay10 = BeautifulSoup(rPay10.content, \"lxml\")\n"
   ]
  },
  {
   "cell_type": "code",
   "execution_count": 22,
   "metadata": {
    "collapsed": true
   },
   "outputs": [],
   "source": [
    "arrCareerTitles = []\n",
    "arrProjectedGrowth = []\n",
    "arrMedianSalary = []\n",
    "iCount2 = 0\n",
    "for dataPay10 in soupPay10.find_all(\"td\"):\n",
    "    iCount2 = iCount2+1\n",
    "    if(iCount2 >1 and iCount2<=4):\n",
    "        arrCareerTitles.append(dataPay10.text)\n",
    "    elif(iCount2 > 9 and iCount2 <=12):\n",
    "         arrProjectedGrowth.append(dataPay10.text)\n",
    "    elif(iCount2 >13 and iCount2 <=16):    \n",
    "         arrMedianSalary.append(dataPay10.text)\n",
    "        \n"
   ]
  },
  {
   "cell_type": "markdown",
   "metadata": {},
   "source": [
    "Get the specialization Tracks available in the MSIS program. This relates to the skills that is commonly expected of the students. "
   ]
  },
  {
   "cell_type": "code",
   "execution_count": 23,
   "metadata": {
    "collapsed": true
   },
   "outputs": [],
   "source": [
    "urlTracks = 'https://www.scu.edu/business/ms-information-systems/curriculum/specialization-tracks/'\n",
    "rTracks = requests.get(urlTracks)\n",
    "rTracks.content\n",
    "soupTracks = BeautifulSoup(rTracks.content, \"lxml\")"
   ]
  },
  {
   "cell_type": "code",
   "execution_count": 25,
   "metadata": {
    "collapsed": true
   },
   "outputs": [],
   "source": [
    "arrTracks = []"
   ]
  },
  {
   "cell_type": "code",
   "execution_count": 26,
   "metadata": {},
   "outputs": [],
   "source": [
    "for dataTracks in soupTracks.find_all(\"h4\"):\n",
    "    arrTracks.append(dataTracks.text)    "
   ]
  },
  {
   "cell_type": "code",
   "execution_count": 27,
   "metadata": {},
   "outputs": [],
   "source": [
    "dataframe=pandas.DataFrame(arrTracks,columns=['Program Tracks'])\n"
   ]
  },
  {
   "cell_type": "code",
   "execution_count": 28,
   "metadata": {},
   "outputs": [],
   "source": [
    "data =  {'Job Type':arrJobType,'Salary':arrJobSalary}\n",
    "dataframe2=pandas.DataFrame(data)\n"
   ]
  },
  {
   "cell_type": "code",
   "execution_count": 29,
   "metadata": {},
   "outputs": [],
   "source": [
    "data2 =  {'Career Titles':arrCareerTitles,'Projected Growth Rate:(2014-2024)':arrProjectedGrowth, 'Median Salary':arrMedianSalary}\n",
    "dataframe3=pandas.DataFrame(data2)\n"
   ]
  },
  {
   "cell_type": "code",
   "execution_count": 30,
   "metadata": {},
   "outputs": [],
   "source": [
    "DataComp = requests.get('http://study.com/articles/Top_Ranked_School_for_Information_Technology_-_San_Jose_CA.html')\n",
    "DataComp.content\n",
    "soupDataComp = BeautifulSoup(DataComp.content, 'lxml')\n"
   ]
  },
  {
   "cell_type": "code",
   "execution_count": 31,
   "metadata": {},
   "outputs": [],
   "source": [
    "DataComp = requests.get('http://study.com/articles/Top_Ranked_School_for_Information_Technology_-_San_Jose_CA.html')\n",
    "DataComp.content\n",
    "soupDataComp = BeautifulSoup(DataComp.content, 'lxml')\n",
    "table1 = soupDataComp.find('table')\n"
   ]
  },
  {
   "cell_type": "code",
   "execution_count": 32,
   "metadata": {
    "scrolled": true
   },
   "outputs": [
    {
     "name": "stdout",
     "output_type": "stream",
     "text": [
      " Rankings (2013) \n",
      " Ranked 2nd among universities in the Western region* \n",
      " Named the 9th best public school in the Western region* \n",
      " 106th among national universities in the U.S.*\n",
      " Location \n",
      " Santa Clara, CA (about 2 miles from San Jose) \n",
      " San Jose, CA \n",
      " San Francisco, CA (roughly 42 miles from San Jose\n",
      " School Type \n",
      " 4-year, private not-for-profit \n",
      " 4-year, public \n",
      " 4-year, private not-for-profit\n",
      " Tuition & Fees (2012-2013) \n",
      " $23,976 (graduate)** \n",
      " $6,852, in-state; $18,510, out-of-state (undergrad)** \n",
      " $965 per credit (bachelor's completion program)***; $20,390 per year (graduate)**\n",
      " Information Technology Degrees and Programs Offered \n",
      " Master's degree \n",
      " Bachelor's degree \n",
      " Adult bachelor's completion and master's degrees\n",
      " Information Technology Degrees Awarded (All Levels) in 2011-2012 \n",
      " 22** \n",
      " 1,242 for business administration and management (information technology not provided)** \n",
      " 248 for business administration and management (information technology not provided)**\n",
      " Most Popular Information Technology Programs in 2011-2012 \n",
      " Master of Science in Information Systems (22 degrees awarded)** \n",
      " N/A \n",
      " N/A\n",
      " Undergrad Graduation Rate (in 150% of normal program time) for 2005 Entering Class \n",
      " N/A \n",
      " 46%** \n",
      " 70%**\n",
      " Noteworthy \n",
      " 12th among schools in the Western region for the best educational value in 2013* \n",
      " Listed 38th among universities in the Western region in 2013* \n",
      " Ranked 100th nationally by high school counselors in 2012*\n"
     ]
    }
   ],
   "source": [
    "tableData1 = soupDataComp.find('table')\n",
    "tableDataF = tableData1.find('tbody')\n",
    "for rows in tableDataF.find_all('tr'):\n",
    "    for cells in rows.find_all('td'):\n",
    "        print(cells.text)     "
   ]
  },
  {
   "cell_type": "code",
   "execution_count": 33,
   "metadata": {
    "collapsed": true
   },
   "outputs": [],
   "source": [
    "dataCompF = {\n",
    "    'Category' : [],\n",
    "    'Santa Clara University' : [],\n",
    "    'San Jose State University' : [],\n",
    "    'University of San Francisco' : []\n",
    "}\n",
    "\n",
    "table_columns = ['Category','Santa Clara University','San Jose State University','University of San Francisco']\n",
    "count = 0\n",
    "for rows in tableDataF.find_all('tr'):\n",
    "    for cells in rows.find_all('td'):\n",
    "        dataCompF[table_columns[count%4]].append(cells.get_text() )\n",
    "        count = count+1\n",
    "    \n",
    "DataCompFinal = pandas.DataFrame(dataCompF)  "
   ]
  },
  {
   "cell_type": "code",
   "execution_count": 131,
   "metadata": {
    "collapsed": true
   },
   "outputs": [],
   "source": [
    "dataframe.to_csv('Lab4-Dataset2.csv', index=False, encoding='utf-8')\n",
    "dataframe2.to_csv('Lab4-Dataset3.csv', index=False, encoding='utf-8')\n",
    "dataframe3.to_csv('Lab4-Dataset4.csv', index=False, encoding='utf-8')\n",
    "DataCompFinal.to_csv('Lab4-Dataset5.csv', index=False, encoding='utf-8')"
   ]
  },
  {
   "cell_type": "markdown",
   "metadata": {},
   "source": [
    "Santa Clara offers a good MSIS course!\n",
    "\n",
    "- It has several industry oriented tracks which helps the students to keep in touch with the latest technologies used in the Industry. The curriculum is designed in consultation with Industry experts. This gives an advantage for the students, they can perform better due to the exposure to latest technology. \n",
    "\n",
    "- Ranked 2nd in the among the universities in the West region. This certifies for the level of the college, quality of the faculty and the level of the students that pursue the course in the university. \n",
    "\n",
    "- It has a good Return on Investment. The ROI for the program is quite high, considering the opportunities that are available after graduating from the program and the median pay for these opportunities. The number of jobs available for this particular course is also higher than the average job growth rate, this also adds up as an advantage for the course as this gives the students more opportunities. \n",
    "\n",
    "\n",
    "To solidify the claim even more, if we have more data on the actual number of students (alumni) who secured a job within six months of graduation from the university, it would be helpful. This would further solidify the claim that the MSIS course is good and offers the required exposure to the students in joining the work force of the Industry.\n",
    "\n",
    "\n",
    "Link to tableau public Old viz - https://public.tableau.com/profile/aashreya.agasthya.kundurthy#!/vizhome/lab4_9/Dashboard1?publish=yes\n",
    "\n",
    "Link to tableau public Redesigned -\n",
    "\n",
    "https://public.tableau.com/profile/aashreya.agasthya.kundurthy#!/vizhome/Assignment-8_0/MSISSCU?publish=yes"
   ]
  }
 ],
 "metadata": {
  "kernelspec": {
   "display_name": "Python 3",
   "language": "python",
   "name": "python3"
  },
  "language_info": {
   "codemirror_mode": {
    "name": "ipython",
    "version": 3
   },
   "file_extension": ".py",
   "mimetype": "text/x-python",
   "name": "python",
   "nbconvert_exporter": "python",
   "pygments_lexer": "ipython3",
   "version": "3.6.2"
  }
 },
 "nbformat": 4,
 "nbformat_minor": 2
}
